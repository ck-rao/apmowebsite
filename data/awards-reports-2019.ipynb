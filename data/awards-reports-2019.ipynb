{
 "cells": [
  {
   "cell_type": "markdown",
   "metadata": {},
   "source": []
  },
  {
   "cell_type": "code",
   "execution_count": 32,
   "metadata": {},
   "outputs": [
    {
     "name": "stdout",
     "output_type": "stream",
     "text": [
      "Empty DataFrame\n",
      "Columns: [code, country, rank, last, first, sex, p1, p2, p3, p4, p5, total]\n",
      "Index: []\n",
      "Empty DataFrame\n",
      "Columns: [code, country, rank, last, first, sex, p1, p2, p3, p4, p5, total]\n",
      "Index: []\n",
      "Empty DataFrame\n",
      "Columns: [code, country, rank, last, first, sex, p1, p2, p3, p4, p5, total]\n",
      "Index: []\n",
      "Empty DataFrame\n",
      "Columns: [code, country, rank, last, first, sex, p1, p2, p3, p4, p5, total]\n",
      "Index: []\n"
     ]
    }
   ],
   "source": [
    "import pandas as pd\n",
    "\n",
    "for year in range(2016,2020):\n",
    "    clean=pd.read_csv('data_clean/scoretable-%s-clean.csv' % year)\n",
    "    codes=pd.read_csv('iso-alpha-3.csv')\n",
    "    coded=pd.merge(codes,clean,on='country',how='right')\n",
    "    print(coded[coded.code.isnull()])\n",
    "    coded.to_csv('data_clean/scoretable-%s-clean-c.csv' % year,index=False)"
   ]
  },
  {
   "cell_type": "code",
   "execution_count": null,
   "metadata": {},
   "outputs": [],
   "source": []
  }
 ],
 "metadata": {
  "kernelspec": {
   "display_name": "Python 3",
   "language": "python",
   "name": "python3"
  },
  "language_info": {
   "codemirror_mode": {
    "name": "ipython",
    "version": 3
   },
   "file_extension": ".py",
   "mimetype": "text/x-python",
   "name": "python",
   "nbconvert_exporter": "python",
   "pygments_lexer": "ipython3",
   "version": "3.6.4"
  }
 },
 "nbformat": 4,
 "nbformat_minor": 2
}
